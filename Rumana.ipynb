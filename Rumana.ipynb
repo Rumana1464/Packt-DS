{
 "cells": [
  {
   "cell_type": "markdown",
   "id": "9489470e",
   "metadata": {},
   "source": [
    "# Python Code for Monte Carlo simulation"
   ]
  },
  {
   "cell_type": "markdown",
   "id": "a739212e",
   "metadata": {},
   "source": [
    "### Importing libraries"
   ]
  },
  {
   "cell_type": "code",
   "execution_count": 1,
   "id": "f1b84743",
   "metadata": {},
   "outputs": [
    {
     "data": {
      "text/plain": [
       "'C:\\\\Users\\\\MFD INTERN'"
      ]
     },
     "execution_count": 1,
     "metadata": {},
     "output_type": "execute_result"
    }
   ],
   "source": [
    "import numpy as np  \n",
    "import pandas as pd \n",
    "import matplotlib.pyplot as plt\n",
    "from scipy.stats import norm\n",
    "%matplotlib inline\n",
    "import os\n",
    "os.getcwd()"
   ]
  },
  {
   "cell_type": "markdown",
   "id": "4a1d0857",
   "metadata": {},
   "source": [
    "### Importing data  "
   ]
  },
  {
   "cell_type": "code",
   "execution_count": null,
   "id": "508b289f",
   "metadata": {},
   "outputs": [],
   "source": [
    "df = pd.read_csv(r'C:\\Users\\dell\\Downloads\\PNB.csv')\n",
    "df"
   ]
  },
  {
   "cell_type": "markdown",
   "id": "5ed710f9",
   "metadata": {},
   "source": [
    "### Calculating log returns of close price, Plotting graphs and Calculating drift, volatility"
   ]
  },
  {
   "cell_type": "code",
   "execution_count": null,
   "id": "b4daf833",
   "metadata": {},
   "outputs": [],
   "source": [
    "returns = np.log(1+df['Close Price'].pct_change())\n",
    "df.plot(figsize=(10, 6));\n",
    "returns.plot(figsize = (10, 6))\n",
    "u = returns.mean()\n",
    "u  \n",
    "var = returns.var()\n",
    "var\n",
    "drift = u - (0.5 * var)\n",
    "drift\n",
    "stdev = returns.std()\n",
    "stdev\n",
    "type(drift)\n",
    "type(stdev)\n",
    "np.array(drift)\n",
    "norm.ppf(0.95)\n",
    "x = np.random.rand(10, 2)   #random variable\n",
    "x\n",
    "norm.ppf(x)\n",
    "Z = norm.ppf(np.random.rand(10,2))\n",
    "Z\n",
    "t_intervals = 50       #No. of days to be predicted\n",
    "iterations = 10        #no. of possible prices\n"
   ]
  },
  {
   "cell_type": "markdown",
   "id": "005c177b",
   "metadata": {},
   "source": [
    "### Calculating daily returns using drift and volatility"
   ]
  },
  {
   "cell_type": "code",
   "execution_count": null,
   "id": "1d552f27",
   "metadata": {},
   "outputs": [],
   "source": [
    "daily_returns = np.exp(drift + stdev * norm.ppf(np.random.rand(t_intervals, iterations)))\n",
    "daily_returns\n",
    "S0 = 620.45         # last  close price from historical data \n",
    "S0\n",
    "price_list = np.zeros_like(daily_returns)\n",
    "price_list\n",
    "price_list[0]\n",
    "price_list[0] = S0\n",
    "price_list"
   ]
  },
  {
   "cell_type": "markdown",
   "id": "03d59392",
   "metadata": {},
   "source": [
    "### For simulation"
   ]
  },
  {
   "cell_type": "code",
   "execution_count": null,
   "id": "3c61fcd3",
   "metadata": {},
   "outputs": [],
   "source": [
    "for t in range(1, t_intervals):\n",
    "price_list[t] = price_list[t - 1] * daily_returns[t]\n",
    "price_list"
   ]
  },
  {
   "cell_type": "markdown",
   "id": "9da10c72",
   "metadata": {},
   "source": [
    "###  Plotting the final graph of Monto Carlo Simulation    "
   ]
  },
  {
   "cell_type": "code",
   "execution_count": null,
   "id": "18b13ace",
   "metadata": {},
   "outputs": [],
   "source": [
    "plt.figure(figsize=(10,6))\n",
    "plt.plot(price_list)"
   ]
  }
 ],
 "metadata": {
  "kernelspec": {
   "display_name": "Python 3 (ipykernel)",
   "language": "python",
   "name": "python3"
  },
  "language_info": {
   "codemirror_mode": {
    "name": "ipython",
    "version": 3
   },
   "file_extension": ".py",
   "mimetype": "text/x-python",
   "name": "python",
   "nbconvert_exporter": "python",
   "pygments_lexer": "ipython3",
   "version": "3.9.12"
  }
 },
 "nbformat": 4,
 "nbformat_minor": 5
}
